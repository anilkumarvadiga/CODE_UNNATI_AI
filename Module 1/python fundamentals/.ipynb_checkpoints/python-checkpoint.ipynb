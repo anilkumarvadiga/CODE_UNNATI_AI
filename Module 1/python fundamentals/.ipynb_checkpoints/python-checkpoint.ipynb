{
 "cells": [
  {
   "cell_type": "code",
   "execution_count": null,
   "id": "fb698653",
   "metadata": {},
   "outputs": [],
   "source": [
    "import math\n",
    "num = input(\"enter number:\")\n",
    "sum = 0\n",
    "for i in num:\n",
    "    sum=sum+math.factorial(int(i))\n",
    "    print(sum)   \n"
   ]
  },
  {
   "cell_type": "code",
   "execution_count": null,
   "id": "557dc968",
   "metadata": {},
   "outputs": [],
   "source": [
    "num = int(input(\" Please Enter any Number: \"))\n",
    "Sum = 0\n",
    "Temp = num\n",
    "\n",
    "while(Temp > 0):\n",
    "    factorial = 1\n",
    "    i = 1\n",
    "    Reminder = Temp % 10\n",
    "\n",
    "    while(i <= Reminder):\n",
    "        factorial = factorial * i\n",
    "        i = i + 1\n",
    "\n",
    "    print(\"\\n Factorial of %d = %d\" %(Reminder, factorial))\n",
    "    Sum = Sum + factorial\n",
    "    Temp = Temp // 10\n",
    "\n",
    "print(\"\\n Sum of Factorials of a Given %d = %d\" %(num, Sum))\n",
    "    \n",
    "if (Sum == num):\n",
    "    print(\" %d is a cinema day\" %num)\n",
    "else:\n",
    "    print(\" %d is not\" %num)"
   ]
  },
  {
   "cell_type": "code",
   "execution_count": null,
   "id": "f2eab1bb",
   "metadata": {},
   "outputs": [],
   "source": []
  },
  {
   "cell_type": "code",
   "execution_count": null,
   "id": "76c126b2",
   "metadata": {},
   "outputs": [],
   "source": []
  }
 ],
 "metadata": {
  "kernelspec": {
   "display_name": "Python 3 (ipykernel)",
   "language": "python",
   "name": "python3"
  },
  "language_info": {
   "codemirror_mode": {
    "name": "ipython",
    "version": 3
   },
   "file_extension": ".py",
   "mimetype": "text/x-python",
   "name": "python",
   "nbconvert_exporter": "python",
   "pygments_lexer": "ipython3",
   "version": "3.9.12"
  }
 },
 "nbformat": 4,
 "nbformat_minor": 5
}
