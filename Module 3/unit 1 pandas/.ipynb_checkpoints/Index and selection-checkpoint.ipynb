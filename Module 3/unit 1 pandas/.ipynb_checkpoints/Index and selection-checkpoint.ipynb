{
 "cells": [
  {
   "cell_type": "code",
   "execution_count": 1,
   "id": "742b2ed8",
   "metadata": {},
   "outputs": [
    {
     "name": "stdout",
     "output_type": "stream",
     "text": [
      "Name\n",
      "Avery Bradley    25\n",
      "Jae Crowder      25\n",
      "John Holland     27\n",
      "R.J. Hunter      22\n",
      "Jonas Jerebko    29\n",
      "                 ..\n",
      "Trey Lyles       20\n",
      "Shelvin Mack     26\n",
      "Raul Neto        24\n",
      "Tibor Pleiss     26\n",
      "Jeff Withey      26\n",
      "Name: Age, Length: 457, dtype: int64\n"
     ]
    }
   ],
   "source": [
    "# Importing pandas package\n",
    "import pandas as pd\n",
    "\n",
    "#making data frame from csv file \n",
    "data = pd.read_csv(\"nba-2.csv\", index_col=\"Name\")\n",
    "\n",
    "#retrieving columns by indexing operator\n",
    "first = data[\"Age\"]\n",
    "print(first)"
   ]
  },
  {
   "cell_type": "code",
   "execution_count": 6,
   "id": "1cb19c35",
   "metadata": {},
   "outputs": [
    {
     "name": "stdout",
     "output_type": "stream",
     "text": [
      "               Age            College     Salary\n",
      "Name                                            \n",
      "Avery Bradley   25              Texas  7730337.0\n",
      "Jae Crowder     25          Marquette  6796117.0\n",
      "John Holland    27  Boston University        NaN\n",
      "R.J. Hunter     22      Georgia State  1148640.0\n",
      "Jonas Jerebko   29                NaN  5000000.0\n",
      "...            ...                ...        ...\n",
      "Trey Lyles      20           Kentucky  2239800.0\n",
      "Shelvin Mack    26             Butler  2433333.0\n",
      "Raul Neto       24                NaN   900000.0\n",
      "Tibor Pleiss    26                NaN  2900000.0\n",
      "Jeff Withey     26             Kansas   947276.0\n",
      "\n",
      "[457 rows x 3 columns]\n"
     ]
    }
   ],
   "source": [
    "#selecting a multiple row\n",
    "\n",
    "# Importing pandas package\n",
    "import pandas as pd\n",
    "\n",
    "#making data frame from csv file \n",
    "data = pd.read_csv(\"nba-2.csv\", index_col=\"Name\")\n",
    "#retriving multiple columns by indexing operator\n",
    "first = data[[\"Age\", \"College\", \"Salary\"]]\n",
    "print(first)"
   ]
  },
  {
   "cell_type": "code",
   "execution_count": 10,
   "id": "923b92b7",
   "metadata": {},
   "outputs": [
    {
     "name": "stdout",
     "output_type": "stream",
     "text": [
      "Team        Boston Celtics\n",
      "Number                   0\n",
      "Position                PG\n",
      "Age                     25\n",
      "Height               2-Jun\n",
      "Weight                 180\n",
      "College              Texas\n",
      "Salary           7730337.0\n",
      "Name: Avery Bradley, dtype: object \n",
      "\n",
      "\n",
      " Team        Boston Celtics\n",
      "Number                  28\n",
      "Position                SG\n",
      "Age                     22\n",
      "Height               5-Jun\n",
      "Weight                 185\n",
      "College      Georgia State\n",
      "Salary           1148640.0\n",
      "Name: R.J. Hunter, dtype: object\n"
     ]
    }
   ],
   "source": [
    "#selecting a single row\n",
    "\n",
    "# Importing pandas package\n",
    "import pandas as pd\n",
    "\n",
    "#making data frame from csv file \n",
    "data = pd.read_csv(\"nba-2.csv\", index_col=\"Name\")\n",
    "\n",
    "#retrieving row by loc method\n",
    "first = data.loc[\"Avery Bradley\"]\n",
    "second = data.loc[\"R.J. Hunter\"]\n",
    "\n",
    "print(first,\"\\n\\n\\n\",second)"
   ]
  },
  {
   "cell_type": "code",
   "execution_count": 8,
   "id": "159be558",
   "metadata": {},
   "outputs": [
    {
     "data": {
      "text/html": [
       "<div>\n",
       "<style scoped>\n",
       "    .dataframe tbody tr th:only-of-type {\n",
       "        vertical-align: middle;\n",
       "    }\n",
       "\n",
       "    .dataframe tbody tr th {\n",
       "        vertical-align: top;\n",
       "    }\n",
       "\n",
       "    .dataframe thead th {\n",
       "        text-align: right;\n",
       "    }\n",
       "</style>\n",
       "<table border=\"1\" class=\"dataframe\">\n",
       "  <thead>\n",
       "    <tr style=\"text-align: right;\">\n",
       "      <th></th>\n",
       "      <th>Team</th>\n",
       "      <th>Number</th>\n",
       "      <th>Position</th>\n",
       "      <th>Age</th>\n",
       "      <th>Height</th>\n",
       "      <th>Weight</th>\n",
       "      <th>College</th>\n",
       "      <th>Salary</th>\n",
       "    </tr>\n",
       "    <tr>\n",
       "      <th>Name</th>\n",
       "      <th></th>\n",
       "      <th></th>\n",
       "      <th></th>\n",
       "      <th></th>\n",
       "      <th></th>\n",
       "      <th></th>\n",
       "      <th></th>\n",
       "      <th></th>\n",
       "    </tr>\n",
       "  </thead>\n",
       "  <tbody>\n",
       "    <tr>\n",
       "      <th>Avery Bradley</th>\n",
       "      <td>Boston Celtics</td>\n",
       "      <td>0</td>\n",
       "      <td>PG</td>\n",
       "      <td>25</td>\n",
       "      <td>2-Jun</td>\n",
       "      <td>180</td>\n",
       "      <td>Texas</td>\n",
       "      <td>7730337.0</td>\n",
       "    </tr>\n",
       "    <tr>\n",
       "      <th>Jae Crowder</th>\n",
       "      <td>Boston Celtics</td>\n",
       "      <td>99</td>\n",
       "      <td>SF</td>\n",
       "      <td>25</td>\n",
       "      <td>6-Jun</td>\n",
       "      <td>235</td>\n",
       "      <td>Marquette</td>\n",
       "      <td>6796117.0</td>\n",
       "    </tr>\n",
       "    <tr>\n",
       "      <th>John Holland</th>\n",
       "      <td>Boston Celtics</td>\n",
       "      <td>30</td>\n",
       "      <td>SG</td>\n",
       "      <td>27</td>\n",
       "      <td>5-Jun</td>\n",
       "      <td>205</td>\n",
       "      <td>Boston University</td>\n",
       "      <td>NaN</td>\n",
       "    </tr>\n",
       "    <tr>\n",
       "      <th>R.J. Hunter</th>\n",
       "      <td>Boston Celtics</td>\n",
       "      <td>28</td>\n",
       "      <td>SG</td>\n",
       "      <td>22</td>\n",
       "      <td>5-Jun</td>\n",
       "      <td>185</td>\n",
       "      <td>Georgia State</td>\n",
       "      <td>1148640.0</td>\n",
       "    </tr>\n",
       "    <tr>\n",
       "      <th>Jonas Jerebko</th>\n",
       "      <td>Boston Celtics</td>\n",
       "      <td>8</td>\n",
       "      <td>PF</td>\n",
       "      <td>29</td>\n",
       "      <td>10-Jun</td>\n",
       "      <td>231</td>\n",
       "      <td>NaN</td>\n",
       "      <td>5000000.0</td>\n",
       "    </tr>\n",
       "  </tbody>\n",
       "</table>\n",
       "</div>"
      ],
      "text/plain": [
       "                         Team  Number Position  Age  Height  Weight  \\\n",
       "Name                                                                  \n",
       "Avery Bradley  Boston Celtics       0       PG   25   2-Jun     180   \n",
       "Jae Crowder    Boston Celtics      99       SF   25   6-Jun     235   \n",
       "John Holland   Boston Celtics      30       SG   27   5-Jun     205   \n",
       "R.J. Hunter    Boston Celtics      28       SG   22   5-Jun     185   \n",
       "Jonas Jerebko  Boston Celtics       8       PF   29  10-Jun     231   \n",
       "\n",
       "                         College     Salary  \n",
       "Name                                         \n",
       "Avery Bradley              Texas  7730337.0  \n",
       "Jae Crowder            Marquette  6796117.0  \n",
       "John Holland   Boston University        NaN  \n",
       "R.J. Hunter        Georgia State  1148640.0  \n",
       "Jonas Jerebko                NaN  5000000.0  "
      ]
     },
     "execution_count": 8,
     "metadata": {},
     "output_type": "execute_result"
    }
   ],
   "source": [
    "data.head(5)"
   ]
  },
  {
   "cell_type": "code",
   "execution_count": 12,
   "id": "52d46136",
   "metadata": {},
   "outputs": [
    {
     "name": "stdout",
     "output_type": "stream",
     "text": [
      "                         Team  Number Position  Age Height  Weight  \\\n",
      "Name                                                                 \n",
      "Avery Bradley  Boston Celtics       0       PG   25  2-Jun     180   \n",
      "R.J. Hunter    Boston Celtics      28       SG   22  5-Jun     185   \n",
      "\n",
      "                     College     Salary  \n",
      "Name                                     \n",
      "Avery Bradley          Texas  7730337.0  \n",
      "R.J. Hunter    Georgia State  1148640.0  \n"
     ]
    }
   ],
   "source": [
    "#selecting a multile row\n",
    "\n",
    "# Importing pandas package\n",
    "import pandas as pd\n",
    "\n",
    "#making data frame from csv file \n",
    "data = pd.read_csv(\"nba-2.csv\", index_col=\"Name\")\n",
    "\n",
    "#retrieving multiple row by loc method\n",
    "first = data.loc[[\"Avery Bradley\",\"R.J. Hunter\"]]\n",
    "print(first)"
   ]
  },
  {
   "cell_type": "code",
   "execution_count": 13,
   "id": "62284968",
   "metadata": {},
   "outputs": [
    {
     "name": "stdout",
     "output_type": "stream",
     "text": [
      "                         Team  Number Position\n",
      "Name                                          \n",
      "Avery Bradley  Boston Celtics       0       PG\n",
      "R.J. Hunter    Boston Celtics      28       SG\n"
     ]
    }
   ],
   "source": [
    "#selecting a two rows and three columns\n",
    "\n",
    "# Importing pandas package\n",
    "import pandas as pd\n",
    "\n",
    "#making data frame from csv file \n",
    "data = pd.read_csv(\"nba-2.csv\", index_col=\"Name\")\n",
    "\n",
    "#retrieving two rows and three columns by loc method\n",
    "first = data.loc[[\"Avery Bradley\",\"R.J. Hunter\"],[\"Team\",\"Number\",\"Position\"]]\n",
    "print(first)"
   ]
  },
  {
   "cell_type": "code",
   "execution_count": 14,
   "id": "a301915e",
   "metadata": {},
   "outputs": [
    {
     "name": "stdout",
     "output_type": "stream",
     "text": [
      "                         Team  Number Position\n",
      "Name                                          \n",
      "Avery Bradley  Boston Celtics       0       PG\n",
      "Jae Crowder    Boston Celtics      99       SF\n",
      "John Holland   Boston Celtics      30       SG\n",
      "R.J. Hunter    Boston Celtics      28       SG\n",
      "Jonas Jerebko  Boston Celtics       8       PF\n",
      "...                       ...     ...      ...\n",
      "Trey Lyles          Utah Jazz      41       PF\n",
      "Shelvin Mack        Utah Jazz       8       PG\n",
      "Raul Neto           Utah Jazz      25       PG\n",
      "Tibor Pleiss        Utah Jazz      21        C\n",
      "Jeff Withey         Utah Jazz      24        C\n",
      "\n",
      "[457 rows x 3 columns]\n"
     ]
    }
   ],
   "source": [
    "#selecting all rows and some columns\n",
    "\n",
    "# Importing pandas package\n",
    "import pandas as pd\n",
    "\n",
    "#making data frame from csv file \n",
    "data = pd.read_csv(\"nba-2.csv\", index_col=\"Name\")\n",
    "\n",
    "#retrieving all rows and some columns by loc method\n",
    "first = data.loc[:, [\"Team\",\"Number\",\"Position\"]]\n",
    "print(first)"
   ]
  },
  {
   "cell_type": "code",
   "execution_count": 15,
   "id": "7fb8c604",
   "metadata": {},
   "outputs": [
    {
     "name": "stdout",
     "output_type": "stream",
     "text": [
      "Team        Boston Celtics\n",
      "Number                  28\n",
      "Position                SG\n",
      "Age                     22\n",
      "Height               5-Jun\n",
      "Weight                 185\n",
      "College      Georgia State\n",
      "Salary           1148640.0\n",
      "Name: R.J. Hunter, dtype: object\n"
     ]
    }
   ],
   "source": [
    "#selecting a single rows\n",
    "\n",
    "# Importing pandas package\n",
    "import pandas as pd\n",
    "\n",
    "#making data frame from csv file \n",
    "data = pd.read_csv(\"nba-2.csv\", index_col=\"Name\")\n",
    "\n",
    "#retrieving a rows by loc method\n",
    "row2 = data.iloc[3]\n",
    "print(row2)"
   ]
  },
  {
   "cell_type": "code",
   "execution_count": 16,
   "id": "a5effd91",
   "metadata": {},
   "outputs": [
    {
     "name": "stdout",
     "output_type": "stream",
     "text": [
      "                        Team  Number Position  Age  Height  Weight  \\\n",
      "Name                                                                 \n",
      "R.J. Hunter   Boston Celtics      28       SG   22   5-Jun     185   \n",
      "Amir Johnson  Boston Celtics      90       PF   29   9-Jun     240   \n",
      "Kelly Olynyk  Boston Celtics      41        C   25  Jul-00     238   \n",
      "\n",
      "                    College      Salary  \n",
      "Name                                     \n",
      "R.J. Hunter   Georgia State   1148640.0  \n",
      "Amir Johnson            NaN  12000000.0  \n",
      "Kelly Olynyk        Gonzaga   2165160.0  \n"
     ]
    }
   ],
   "source": [
    "#selecting a multiple rows\n",
    "\n",
    "# Importing pandas package\n",
    "import pandas as pd\n",
    "\n",
    "#making data frame from csv file \n",
    "data = pd.read_csv(\"nba-2.csv\", index_col=\"Name\")\n",
    "\n",
    "#retrieving multiple rows by loc method\n",
    "row2 = data.iloc[[3,5,7]]\n",
    "print(row2)"
   ]
  },
  {
   "cell_type": "code",
   "execution_count": 17,
   "id": "faeac233",
   "metadata": {},
   "outputs": [
    {
     "name": "stdout",
     "output_type": "stream",
     "text": [
      "              Number Position\n",
      "Name                         \n",
      "R.J. Hunter       28       SG\n",
      "Amir Johnson      90       PF\n"
     ]
    }
   ],
   "source": [
    "#selecting a two rows two columns\n",
    "\n",
    "# Importing pandas package\n",
    "import pandas as pd\n",
    "\n",
    "#making data frame from csv file \n",
    "data = pd.read_csv(\"nba-2.csv\", index_col=\"Name\")\n",
    "\n",
    "#retrieving two rows two columns by loc method\n",
    "row2 = data.iloc[[3,5,],[1,2]]\n",
    "print(row2)"
   ]
  },
  {
   "cell_type": "code",
   "execution_count": null,
   "id": "21e826e3",
   "metadata": {},
   "outputs": [],
   "source": []
  }
 ],
 "metadata": {
  "kernelspec": {
   "display_name": "Python 3 (ipykernel)",
   "language": "python",
   "name": "python3"
  },
  "language_info": {
   "codemirror_mode": {
    "name": "ipython",
    "version": 3
   },
   "file_extension": ".py",
   "mimetype": "text/x-python",
   "name": "python",
   "nbconvert_exporter": "python",
   "pygments_lexer": "ipython3",
   "version": "3.9.13"
  }
 },
 "nbformat": 4,
 "nbformat_minor": 5
}
