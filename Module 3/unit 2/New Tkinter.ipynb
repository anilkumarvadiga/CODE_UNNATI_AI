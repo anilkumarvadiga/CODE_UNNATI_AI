{
 "cells": [
  {
   "cell_type": "markdown",
   "id": "28752896",
   "metadata": {},
   "source": [
    "# Importing Library & Adding Window"
   ]
  },
  {
   "cell_type": "code",
   "execution_count": 7,
   "id": "3d1d7f64",
   "metadata": {},
   "outputs": [],
   "source": [
    "#importing libraries\n",
    "from tkinter import *\n",
    "import ttk\n",
    "from tkinter.ttk import *"
   ]
  },
  {
   "cell_type": "markdown",
   "id": "f30e59fd",
   "metadata": {},
   "source": [
    "# Adding Window"
   ]
  },
  {
   "cell_type": "code",
   "execution_count": 10,
   "id": "d4b0914a",
   "metadata": {},
   "outputs": [
    {
     "ename": "TypeError",
     "evalue": "'module' object is not callable",
     "output_type": "error",
     "traceback": [
      "\u001b[1;31m---------------------------------------------------------------------------\u001b[0m",
      "\u001b[1;31mTypeError\u001b[0m                                 Traceback (most recent call last)",
      "\u001b[1;32m~\\AppData\\Local\\Temp\\ipykernel_5816\\1475536858.py\u001b[0m in \u001b[0;36m<module>\u001b[1;34m\u001b[0m\n\u001b[0;32m      2\u001b[0m \u001b[1;32mimport\u001b[0m \u001b[0mttk\u001b[0m\u001b[1;33m\u001b[0m\u001b[1;33m\u001b[0m\u001b[0m\n\u001b[0;32m      3\u001b[0m \u001b[1;32mfrom\u001b[0m \u001b[0mtkinter\u001b[0m\u001b[1;33m.\u001b[0m\u001b[0mttk\u001b[0m \u001b[1;32mimport\u001b[0m \u001b[1;33m*\u001b[0m\u001b[1;33m\u001b[0m\u001b[1;33m\u001b[0m\u001b[0m\n\u001b[1;32m----> 4\u001b[1;33m \u001b[0mwindow\u001b[0m \u001b[1;33m=\u001b[0m \u001b[0mttk\u001b[0m\u001b[1;33m(\u001b[0m\u001b[1;33m)\u001b[0m\u001b[1;33m\u001b[0m\u001b[1;33m\u001b[0m\u001b[0m\n\u001b[0m\u001b[0;32m      5\u001b[0m \u001b[0mwindow\u001b[0m\u001b[1;33m.\u001b[0m\u001b[0mtitle\u001b[0m\u001b[1;33m(\u001b[0m\u001b[1;34m\"Welcome to Python Tkinter\"\u001b[0m\u001b[1;33m)\u001b[0m\u001b[1;33m\u001b[0m\u001b[1;33m\u001b[0m\u001b[0m\n\u001b[0;32m      6\u001b[0m \u001b[0mwindow\u001b[0m\u001b[1;33m.\u001b[0m\u001b[0mconfigure\u001b[0m\u001b[1;33m(\u001b[0m\u001b[0mbg\u001b[0m\u001b[1;33m=\u001b[0m\u001b[1;34m'blue'\u001b[0m\u001b[1;33m)\u001b[0m\u001b[1;33m\u001b[0m\u001b[1;33m\u001b[0m\u001b[0m\n",
      "\u001b[1;31mTypeError\u001b[0m: 'module' object is not callable"
     ]
    }
   ],
   "source": [
    "from tkinter import *\n",
    "import ttk\n",
    "from tkinter.ttk import *\n",
    "window = ttk()\n",
    "window.title(\"Welcome to Python Tkinter\")\n",
    "window.configure(bg='blue')\n",
    "window.geometry('1000x700')\n",
    "\n",
    "#Adding the label on the window\n",
    "label = Label(window, text=\"Hello type something, and click the button\",font= (\"Helvetica 25\"))\n",
    "label.grid(column=0, row=0)\n",
    "\n",
    "#Adding the entry on the window -- (to get input from the user)\n",
    "txt = Entry(window,width=50)\n",
    "txt.grid(column=50,row=1)\n",
    "\n",
    "def clicked():  #after clicking it will add the user added string to the name variable\n",
    "    name = \"Welcome - \" + txt.get()\n",
    "    label.configure(text= name)\n",
    "    \n",
    "#creating a button on the window\n",
    "btn = Button(window,text=\"Click Me \", command= clicked)\n",
    "btn.grid(column=100,row=50)\n",
    "\n",
    "def clicked():\n",
    "    label.configure(text=\"After, Button was clicked !!,we have seen the change\")\n",
    "window.mainloop()\n",
    "    "
   ]
  },
  {
   "cell_type": "code",
   "execution_count": null,
   "id": "88273e70",
   "metadata": {},
   "outputs": [],
   "source": []
  }
 ],
 "metadata": {
  "kernelspec": {
   "display_name": "Python 3 (ipykernel)",
   "language": "python",
   "name": "python3"
  },
  "language_info": {
   "codemirror_mode": {
    "name": "ipython",
    "version": 3
   },
   "file_extension": ".py",
   "mimetype": "text/x-python",
   "name": "python",
   "nbconvert_exporter": "python",
   "pygments_lexer": "ipython3",
   "version": "3.9.13"
  }
 },
 "nbformat": 4,
 "nbformat_minor": 5
}
